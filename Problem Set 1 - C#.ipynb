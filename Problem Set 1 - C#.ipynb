{
 "cells": [
  {
   "cell_type": "markdown",
   "id": "28a5432d",
   "metadata": {},
   "source": [
    "\n",
    "# Question 1 C#\n",
    "What data type is each of the following?\n",
    "\n",
    "    |5         |(int) \n",
    "    |5.0       | (decimal)\n",
    "    |5 > 1     |(Boolean)\n",
    "    |'5'       |(char)\n",
    "    |5 * 2     |(int)\n",
    "    |'5' * 2   |(char and int)\n",
    "    |'5' + '2' |(char)\n",
    "    |5 / 2     |(int)\n",
    "    |5 % 2     |(int)\n",
    "    |{5, 2, 1} |(list of int)\n",
    "    |5 == 3    |(Boolean)\n",
    "    |Pi (the number) |(double)\n",
    "\n"
   ]
  },
  {
   "cell_type": "markdown",
   "id": "af2aa1a6",
   "metadata": {},
   "source": [
    "# Question 2a C#\n",
    "Write (and evaluate) C# expressions that answer these questions:\n",
    "a. How many letters are there in 'Supercalifragilisticexpialidocious'?\n",
    "\n",
    "Answer: 34"
   ]
  },
  {
   "cell_type": "code",
   "execution_count": 2,
   "id": "935c8eda",
   "metadata": {},
   "outputs": [
    {
     "name": "stdout",
     "output_type": "stream",
     "text": [
      "34\r\n"
     ]
    }
   ],
   "source": [
    "string word = \"Supercalifragilisticexpialidocious\";\n",
    "Console.WriteLine(word.Length);"
   ]
  },
  {
   "cell_type": "markdown",
   "id": "2eb38b20",
   "metadata": {},
   "source": [
    "# Question 2b C#\n",
    "Does 'Supercalifragilisticexpialidocious' contain 'ice' as a substring?\n",
    "\n",
    "Answer:True"
   ]
  },
  {
   "cell_type": "code",
   "execution_count": 3,
   "id": "572833c8",
   "metadata": {},
   "outputs": [
    {
     "name": "stdout",
     "output_type": "stream",
     "text": [
      "True\r\n"
     ]
    }
   ],
   "source": [
    "String word = \"Supercalifragilisticexpialidocious\", substring = \"ice\";\n",
    "Boolean result = word.Contains(substring);\n",
    "Console.WriteLine(result);"
   ]
  },
  {
   "cell_type": "markdown",
   "id": "013dae97",
   "metadata": {},
   "source": [
    "# Question 2c C#\n",
    "Which of the following words is the longest:\n",
    "Supercalifragilisticexpialidocious, Honorificabilitudinitatibus, or\n",
    "Bababadalgharaghtakamminarronnkonn?\n",
    "\n",
    "Answer: Supercalifragilisticexpialidocious"
   ]
  },
  {
   "cell_type": "code",
   "execution_count": 5,
   "id": "a729ddd0",
   "metadata": {},
   "outputs": [
    {
     "name": "stdout",
     "output_type": "stream",
     "text": [
      "The longest word is Supercalifragilisticexpialidocious\r\n"
     ]
    }
   ],
   "source": [
    "string first_word = \"Supercalifragilisticexpialidocious\";\n",
    "string second_word = \"Honorificabilitudinitatibus\";\n",
    "string third_word = \"Honorificabilitudinitatibus\";\n",
    "\n",
    "if (first_word.Length >second_word.Length)\n",
    "{\n",
    "    if (first_word.Length > third_word.Length)\n",
    "        Console.WriteLine(\"The longest word is {0}\", first_word);\n",
    "    else\n",
    "        Console.WriteLine(\"The longest word is {0}\",third_word);\n",
    "}\n",
    "else\n",
    "{\n",
    "    if (second_word.Length > third_word.Length)\n",
    "        Console.WriteLine(\"The longest word is {0}\", second_word);\n",
    "    else\n",
    "        Console.WriteLine(\"THe longest word is {0}\", third_word);\n",
    "}"
   ]
  },
  {
   "cell_type": "markdown",
   "id": "f3c7216b",
   "metadata": {},
   "source": [
    "# Question 2d C#\n",
    "Which composer comes first in the dictionary: 'Berlioz', 'Borodin', 'Brian',\n",
    "'Bartok', 'Bellini', 'Buxtehude', 'Bernstein'. Which one comes last?\n",
    "Answer:\n",
    "First is Bartok\n",
    "Last is Buxtehude"
   ]
  },
  {
   "cell_type": "code",
   "execution_count": 6,
   "id": "4d740f09",
   "metadata": {},
   "outputs": [
    {
     "name": "stdout",
     "output_type": "stream",
     "text": [
      "Bartok\n",
      "Bellini\n",
      "Berlioz\n",
      "Bernstein\n",
      "Borodin\n",
      "Brian\n",
      "Buxtehude\n"
     ]
    }
   ],
   "source": [
    "var composers = new SortedSet<string>();\n",
    "composers.Add(\"Berlioz\");\n",
    "composers.Add(\"Borodin\");\n",
    "composers.Add(\"Brian\");\n",
    "composers.Add(\"Bartok\");\n",
    "composers.Add(\"Bellini\");\n",
    "composers.Add(\"Buxtehude\");\n",
    "composers.Add(\"Bernstein\");\n",
    "foreach (var name in composers)\n",
    "{\n",
    "    Console.WriteLine(name);\n",
    "}"
   ]
  },
  {
   "cell_type": "markdown",
   "id": "c0cd898e",
   "metadata": {},
   "source": [
    "# Question 3 C#\n",
    "Implement function triangleArea(a,b,c) that takes as input the lengths of the 3\n",
    "sides of a triangle and returns the area of the triangle. By Heron's formula, the area\n",
    "of a triangle with side lengths a, b, and c is s(s − a)(s −b)(s −c), where\n",
    "s = (a + b + c)/2.\n",
    ">>> triangleArea(2,2,2)\n",
    "1.7320508075688772"
   ]
  },
  {
   "cell_type": "code",
   "execution_count": null,
   "id": "354aa7fa",
   "metadata": {},
   "outputs": [],
   "source": [
    "static void TriangleArea(double number, double number2, double number3)\n",
    "{\n",
    "    double s = (number + number2 + number3) / 2;\n",
    "    double area = Math.Sqrt(s*(s-number)*(s-number2)*(s-number3));\n",
    "    Console.WriteLine($\"The area of the triangle is {area}\");\n",
    "}\n",
    "\n",
    "Console.Write(\"Enter side 1: \");\n",
    "double a = Convert.ToDouble(Console.ReadLine());\n",
    "\n",
    "Console.Write(\"Enter side 2: \");\n",
    "double b = Convert.ToDouble(Console.ReadLine());\n",
    "\n",
    "Console.Write(\"Enter side 3: \");\n",
    "double c = Convert.ToDouble(Console.ReadLine());\n",
    "\n",
    "TriangleArea(a,b,c);\n",
    "Console.ReadLine();"
   ]
  },
  {
   "cell_type": "markdown",
   "id": "b7c7f8a5",
   "metadata": {},
   "source": [
    "# Question 4 C#\n",
    "Write a program in C# Sharp to separate odd and even integers in separate arrays.\n",
    "Go to the editor\n",
    "Test Data :\n",
    "Input the number of elements to be stored in the array :5\n",
    "Input 5 elements in the array :\n",
    "element - 0 : 25\n",
    "element - 1 : 47\n",
    "element - 2 : 42\n",
    "element - 3 : 56\n",
    "element - 4 : 32\n",
    "Expected Output:\n",
    "The Even elements are:\n",
    "42 56 32\n",
    "The Odd elements are :\n",
    "25 47"
   ]
  },
  {
   "cell_type": "code",
   "execution_count": 2,
   "id": "150e9295",
   "metadata": {},
   "outputs": [
    {
     "name": "stdout",
     "output_type": "stream",
     "text": [
      "The Even elements are: \n",
      "42 56 32 \n",
      "The Odd elements are: \n",
      "25 47 "
     ]
    }
   ],
   "source": [
    "int [] numbers = new int [5];\n",
    "numbers [0] = 25;\n",
    "numbers [1] = 47;\n",
    "numbers [2] = 42;\n",
    "numbers [3] = 56;\n",
    "numbers [4] = 32;\n",
    "List <int> Even = new List <int>();\n",
    "List <int> Odd = new List <int>();\n",
    "for (int i = 0; i <numbers.Length; i++ )\n",
    "{\n",
    "int number = numbers[i];\n",
    "if (number % 2 == 0)\n",
    "Even.Add(number);\n",
    "else\n",
    "Odd.Add(number);\n",
    "}\n",
    "int[] Even_array = Even.ToArray();\n",
    "int[] Odd_array = Odd.ToArray();\n",
    "Console.WriteLine(\"The Even elements are: \");\n",
    "foreach (int n in Even_array)\n",
    "Console.Write(n+\" \");\n",
    "Console.WriteLine(\"\\nThe Odd elements are: \");\n",
    "foreach (int n in Odd_array)\n",
    "Console.Write(n+\" \");"
   ]
  },
  {
   "cell_type": "markdown",
   "id": "4fc3bc70",
   "metadata": {},
   "source": [
    "# Question 5a C#\n",
    "a. Write a function inside(x,y,x1,y1,x2,y2) that returns True or False\n",
    "dependingonwhetherthepoint(x,y)liesintherectanglewithlowerleft\n",
    "corner (x1,y1) and upper right corner (x2,y2).\n",
    ">>> inside(1,1,0,0,2,3)\n",
    "True\n",
    ">>> inside(-1,-1,0,0,2,3)\n",
    "False"
   ]
  },
  {
   "cell_type": "code",
   "execution_count": null,
   "id": "65146469",
   "metadata": {},
   "outputs": [],
   "source": [
    "static void inside(float x, float y, float x1, float y1, float x2, float y2)\n",
    "{\n",
    "    bool x_coordinate = true;\n",
    "    if (x1 < x && x2 > x)\n",
    "        x_coordinate = true;\n",
    "    else x_coordinate = false;\n",
    "\n",
    "    bool y_coordinate = true;\n",
    "    if (y1 < y && y2 > y)\n",
    "        y_coordinate = true;\n",
    "    else y_coordinate = false;\n",
    "    \n",
    "    if (x_coordinate && y_coordinate)\n",
    "        Console.WriteLine(true);\n",
    "    else\n",
    "        Console.WriteLine(false);\n",
    "}\n",
    "\n",
    "Console.Write(\"Enter the point's x coordinate: \");\n",
    "float x = float.Parse(Console.ReadLine());\n",
    "\n",
    "Console.Write(\"Enter the point's y coordinate: \");\n",
    "float y = float.Parse(Console.ReadLine());\n",
    "\n",
    "Console.Write(\"Enter lower left corner's x coordinate: \");\n",
    "float x1 = float.Parse(Console.ReadLine());\n",
    "\n",
    "Console.Write(\"Enter lower left corner's y coordinate: \");\n",
    "float y1 = float.Parse(Console.ReadLine());\n",
    "\n",
    "Console.Write(\"Enter upper right corner's x coordinate: \");\n",
    "float x2 = float.Parse(Console.ReadLine());\n",
    "\n",
    "Console.Write(\"Enter upper right corner's y coordinate: \");\n",
    "float y2 = float.Parse(Console.ReadLine());\n",
    "\n",
    "inside(x,y,x1,y1,x2,y2);\n",
    "Console.ReadLine();"
   ]
  },
  {
   "cell_type": "markdown",
   "id": "4b65dbef",
   "metadata": {},
   "source": [
    "# Question 5b C#\n",
    "b. Use function inside() from part a. to write an expression that tests whether\n",
    "the point (1,1) lies in both of the following rectangles: one with lower left\n",
    "corner (0.3, 0.5) and upper right corner (1.1, 0.7) and the other with lower\n",
    "left corner (0.5, 0.2) and upper right corner (1.1, 2).\n"
   ]
  },
  {
   "cell_type": "code",
   "execution_count": 1,
   "id": "d1d6d575",
   "metadata": {},
   "outputs": [
    {
     "name": "stdout",
     "output_type": "stream",
     "text": [
      "False\n",
      "True\n"
     ]
    }
   ],
   "source": [
    "static void inside(float x, float y, float x1, float y1, float x2, float y2)\n",
    "{\n",
    "    bool x_coordinate = true;\n",
    "    if (x1 < x && x2 > x)\n",
    "        x_coordinate = true;\n",
    "    else x_coordinate = false;\n",
    "\n",
    "    bool y_coordinate = true;\n",
    "    if (y1 < y && y2 > y)\n",
    "        y_coordinate = true;\n",
    "    else y_coordinate = false;\n",
    "    \n",
    "    if (x_coordinate && y_coordinate)\n",
    "        Console.WriteLine(true);\n",
    "    else\n",
    "        Console.WriteLine(false);\n",
    "}\n",
    "\n",
    "\n",
    "/* to test if point (1,1) lies in following rectangles: \n",
    "one with lower left corner (0.3, 0.5) and upper right corner (1.1, 0.7) \n",
    "and the other with lower left corner (0.5, 0.2) and upper right corner (1.1, 2).*/\n",
    "\n",
    "float x_new = 1, y_new = 1;\n",
    "\n",
    "float rectangle1_x1 = 0.3f, rectangle1_y1 = 0.5f;\n",
    "float rectangle1_x2 = 1.1f, rectangle1_y2 = 0.7f;\n",
    "float rectangle2_x1 = 0.5f, rectangle2_y1 = 0.2f;\n",
    "float rectangle2_x2 = 1.1f, rectangle2_y2 = 2f;\n",
    "\n",
    "inside(x_new, y_new, rectangle1_x1, rectangle1_y1, rectangle1_x2, rectangle1_y2);\n",
    "inside(x_new, y_new, rectangle2_x1, rectangle2_y1, rectangle2_x2, rectangle2_y2);\n",
    "Console.ReadLine();"
   ]
  }
 ],
 "metadata": {
  "kernelspec": {
   "display_name": ".NET (C#)",
   "language": "C#",
   "name": ".net-csharp"
  },
  "language_info": {
   "file_extension": ".cs",
   "mimetype": "text/x-csharp",
   "name": "C#",
   "pygments_lexer": "csharp",
   "version": "8.0"
  }
 },
 "nbformat": 4,
 "nbformat_minor": 5
}
