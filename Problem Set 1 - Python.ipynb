{
 "cells": [
  {
   "cell_type": "markdown",
   "id": "edaff153",
   "metadata": {},
   "source": [
    "# Question 6 Python\n",
    "You can turn a word into pig-Latin using the following two rules (simplified):\n",
    "• If the word starts with a consonant, move that letter to the end and append\n",
    "'ay'. For example, 'happy' becomes 'appyhay' and 'pencil' becomes 'encilpay'.\n",
    "• If the word starts with a vowel, simply append 'way' to the end of the word.\n",
    "For example, 'enter' becomes 'enterway' and 'other' becomes 'otherway' . For\n",
    "our purposes, there are 5 vowels: a, e, i, o, u (so we count y as a consonant).\n",
    "Write a function pig() that takes a word (i.e., a string) as input and returns its pigLatin form. Your function should still work if the input word contains upper case\n",
    "characters. Your output should always be lower case however.\n",
    ">>> pig('happy')\n",
    "'appyhay'\n",
    ">>> pig('Enter')\n",
    "'enterway'"
   ]
  },
  {
   "cell_type": "code",
   "execution_count": 3,
   "id": "76d93d7f",
   "metadata": {},
   "outputs": [
    {
     "name": "stdout",
     "output_type": "stream",
     "text": [
      "appyhay\n",
      "enterway\n"
     ]
    }
   ],
   "source": [
    "def pig(word):\n",
    "    lowerCase = word.lower()\n",
    "    if (lowerCase.startswith('a') or lowerCase.startswith('e') or lowerCase.startswith('i') or lowerCase.startswith('o') or lowerCase.startswith('u') ):\n",
    "        print(word.lower()+\"way\")\n",
    "    else:\n",
    "        firstLetter = lowerCase[0:1]\n",
    "        newWord = lowerCase.replace(firstLetter,'') + firstLetter + 'ay'\n",
    "        print(newWord)\n",
    "pig(\"HAPPY\")\n",
    "pig(\"Enter\")"
   ]
  },
  {
   "cell_type": "markdown",
   "id": "28c417cf",
   "metadata": {},
   "source": [
    "# Question 7 Python\n",
    "File bloodtype1.txt records blood-types of patients (A, B, AB, O or OO) at a clinic.\n",
    "Write a function bldcount() that reads the file with name name and reports (i.e.,\n",
    "prints) how many patients there are in each bloodtype.\n",
    ">>> bldcount('bloodtype.txt')\n",
    "There are 10 patients of blood type A.\n",
    "There is one patient of blood type B.\n",
    "There are 10 patients of blood type AB.\n",
    "There are 12 patients of blood type O.\n",
    "There are no patients of blood type OO"
   ]
  },
  {
   "cell_type": "code",
   "execution_count": null,
   "id": "9d90d260",
   "metadata": {},
   "outputs": [],
   "source": [
    "def bldcount():\n",
    "    name = open(\"bloodtype1.txt\", \"r\")\n",
    "    content = name.read()\n",
    "    new_content = content.split()\n",
    "    if(new_content.count('A')) > 1:\n",
    "        print(\"There are \" + str(new_content.count('A')) + \" patients of blood type A.\")\n",
    "    elif (new_content.count('A')) == 1:\n",
    "        print(\"There is one patient of blood type A.\")\n",
    "    else:\n",
    "        print(\"There are no patients of blood type A.\")\n",
    "    if(new_content.count('B')) > 1:\n",
    "        print(\"There are \" + str(new_content.count('B')) + \" patients of blood type B.\")\n",
    "    elif (new_content.count('B')) == 1:\n",
    "        print(\"There is one patient of blood type B.\")\n",
    "    else:\n",
    "        print(\"There are no patients of blood type B.\")\n",
    "    if(new_content.count('AB')) > 1:\n",
    "        print(\"There are \" + str(new_content.count('AB')) + \" patients of blood type AB.\")\n",
    "    elif (new_content.count('C')) == 1:\n",
    "        print(\"There is one patient of blood type AB.\")\n",
    "    else:\n",
    "        print(\"There are no patients of blood type AB.\")\n",
    "    if (new_content.count('O')) > 1:\n",
    "        print(\"There are \" + str(new_content.count('O')) + \" patients of blood type O.\")\n",
    "    elif (new_content.count('O')) == 1:\n",
    "        print(\"There is one patient of blood type O.\")\n",
    "    else:\n",
    "        print(\"There are no patients of blood type O.\")\n",
    "    if (new_content.count('OO')) > 1:\n",
    "        print(\"There are \" + str(new_content.count('OO')) + \" patients of blood type OO.\")\n",
    "    elif (new_content.count('OO')) == 1:\n",
    "        print(\"There is one patient of blood type OO.\")\n",
    "    else:\n",
    "        print(\"There are no patients of blood type OO.\")"
   ]
  },
  {
   "cell_type": "code",
   "execution_count": null,
   "id": "ef5cc3e0",
   "metadata": {},
   "outputs": [],
   "source": [
    "bldcount()"
   ]
  },
  {
   "cell_type": "markdown",
   "id": "0c1ab7aa",
   "metadata": {},
   "source": [
    "# Question 8 Python\n",
    "Write a function curconv() that takes as input:\n",
    "1. a currency represented using a string (e.g., 'JPY' for the Japanese Yen or\n",
    "'EUR' for the Euro)\n",
    "2. an amount\n",
    "and then converts and returns the amount in US dollars.\n",
    ">>> curconv('EUR', 100)\n",
    "122.96544\n",
    ">>> curconv('JPY', 100)\n",
    "1.241401\n",
    "The currency rates you will need are stored in file currencies.txt:"
   ]
  },
  {
   "cell_type": "code",
   "execution_count": 4,
   "id": "9e40f4bd",
   "metadata": {},
   "outputs": [],
   "source": [
    "def concurv(currency, amount):\n",
    "    \n",
    "    file = open('currencies.txt', 'r')\n",
    "    content = file.read()\n",
    "    new_content = content.split()\n",
    "    index = new_content.index(currency) + 1\n",
    "    rate = new_content[index]\n",
    "    print(float(rate) * amount)"
   ]
  },
  {
   "cell_type": "code",
   "execution_count": 6,
   "id": "e843af18",
   "metadata": {},
   "outputs": [
    {
     "name": "stdout",
     "output_type": "stream",
     "text": [
      "122.96544\n",
      "2.482802\n"
     ]
    }
   ],
   "source": [
    "concurv('EUR',100)\n",
    "concurv('JPY',200)"
   ]
  },
  {
   "cell_type": "markdown",
   "id": "34ebe832",
   "metadata": {},
   "source": [
    "# Question 9 Python\n",
    "Each of the following will cause an exception (an error). Identify what type of exception each will cause.\n",
    "\n",
    "Trying to add incompatible variables, as in adding 6 + ‘a’\n",
    "\n",
    "Answer:TypeError\n",
    "\n",
    "Referring to the 12th item of a list that has only 10 items\n",
    "\n",
    "Answer: IndexError\n",
    "\n",
    "Using a value that is out of range for a function’s input, such as calling math.sqrt(-1.0)\n",
    "\n",
    "Answer: ValueError\n",
    "\n",
    "Using an undeclared variable, such as print(x) when x has not been defined\n",
    "\n",
    "Answer: NameError\n",
    "\n",
    "Trying to open a file that does not exist, such as mistyping the file name or looking in the wrong directory.\n",
    "\n",
    "Answer: IOError"
   ]
  },
  {
   "cell_type": "markdown",
   "id": "ed9fb2d7",
   "metadata": {},
   "source": [
    "# Question 10 Python\n",
    "Encryption is the process of hiding the meaning of a text by substituting letters in the\n",
    "message with other letters, according to some system. If the process is successful, no\n",
    "one but the intended recipient can understand the encrypted message. Cryptanalysis\n",
    "refers to attempts to undo the encryption, even if some details of the encryption are\n",
    "unknown (for example, if an encrypted message has been intercepted). The first step\n",
    "of cryptanalysis is often to build up a table of letter frequencies in the encrypted text.\n",
    "Assume that the string letters is already defined as\n",
    "'abcdefghijklmnopqrstuvwxyz'. Write afunction calledfrequencies()\n",
    "that takes a string as its only parameter, and returns a list of integers, showing the\n",
    "number of times each character appears in the text. Your function may ignore any\n",
    "characters that are not in letters.\n",
    ">>> frequencies('The quick red fox got bored and went home.')\n",
    "[1, 1, 1, 3, 5, 1, 1, 2, 1, 0, 1, 0, 1, 2, 4, 0, 1, 2, 0, 2,\n",
    "1, 0, 1, 1, 0, 0]\n",
    ">>> frequencies('apple')"
   ]
  },
  {
   "cell_type": "code",
   "execution_count": 7,
   "id": "c621f34e",
   "metadata": {},
   "outputs": [],
   "source": [
    "def frequencies(word):\n",
    "    code = 'abcdefghijklmnopqrstuvwxyz'\n",
    "    listOfCount = []\n",
    "    for letter in code:\n",
    "        count = word.count(letter)\n",
    "        listOfCount.append(count)\n",
    "    print(listOfCount)"
   ]
  },
  {
   "cell_type": "code",
   "execution_count": 9,
   "id": "2ffecc5c",
   "metadata": {},
   "outputs": [
    {
     "name": "stdout",
     "output_type": "stream",
     "text": [
      "[1, 1, 1, 3, 5, 1, 1, 2, 1, 0, 1, 0, 1, 2, 4, 0, 1, 2, 0, 2, 1, 0, 1, 1, 0, 0]\n",
      "[1, 0, 0, 0, 1, 0, 0, 0, 0, 0, 0, 1, 0, 0, 0, 2, 0, 0, 0, 0, 0, 0, 0, 0, 0, 0]\n"
     ]
    }
   ],
   "source": [
    "frequencies('The quick red fox got bored and went home.')\n",
    "frequencies('apple')"
   ]
  },
  {
   "cell_type": "code",
   "execution_count": null,
   "id": "86627b16",
   "metadata": {},
   "outputs": [],
   "source": []
  }
 ],
 "metadata": {
  "kernelspec": {
   "display_name": "Python 3 (ipykernel)",
   "language": "python",
   "name": "python3"
  },
  "language_info": {
   "codemirror_mode": {
    "name": "ipython",
    "version": 3
   },
   "file_extension": ".py",
   "mimetype": "text/x-python",
   "name": "python",
   "nbconvert_exporter": "python",
   "pygments_lexer": "ipython3",
   "version": "3.9.12"
  }
 },
 "nbformat": 4,
 "nbformat_minor": 5
}
